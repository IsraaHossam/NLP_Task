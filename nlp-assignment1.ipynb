{
 "cells": [
  {
   "cell_type": "code",
   "execution_count": 1,
   "id": "fbab0915",
   "metadata": {
    "_cell_guid": "b1076dfc-b9ad-4769-8c92-a6c4dae69d19",
    "_uuid": "8f2839f25d086af736a60e9eeb907d3b93b6e0e5",
    "execution": {
     "iopub.execute_input": "2025-03-22T18:49:23.265937Z",
     "iopub.status.busy": "2025-03-22T18:49:23.265415Z",
     "iopub.status.idle": "2025-03-22T18:49:26.926603Z",
     "shell.execute_reply": "2025-03-22T18:49:26.925682Z"
    },
    "papermill": {
     "duration": 3.666994,
     "end_time": "2025-03-22T18:49:26.928607",
     "exception": false,
     "start_time": "2025-03-22T18:49:23.261613",
     "status": "completed"
    },
    "tags": []
   },
   "outputs": [],
   "source": [
    "import pandas as pd\n",
    "import numpy as np\n",
    "import nltk\n",
    "from nltk.corpus import movie_reviews\n",
    "from sklearn.model_selection import train_test_split\n",
    "from sklearn.feature_extraction.text import TfidfVectorizer\n",
    "from sklearn.metrics import accuracy_score, classification_report, confusion_matrix\n",
    "from sklearn.linear_model import LogisticRegression\n",
    "from sklearn.svm import LinearSVC\n",
    "from sklearn.ensemble import RandomForestClassifier"
   ]
  },
  {
   "cell_type": "code",
   "execution_count": 2,
   "id": "8664b9ff",
   "metadata": {
    "execution": {
     "iopub.execute_input": "2025-03-22T18:49:26.934514Z",
     "iopub.status.busy": "2025-03-22T18:49:26.934029Z",
     "iopub.status.idle": "2025-03-22T18:49:31.742878Z",
     "shell.execute_reply": "2025-03-22T18:49:31.741519Z"
    },
    "papermill": {
     "duration": 4.813817,
     "end_time": "2025-03-22T18:49:31.744978",
     "exception": false,
     "start_time": "2025-03-22T18:49:26.931161",
     "status": "completed"
    },
    "tags": []
   },
   "outputs": [
    {
     "name": "stdout",
     "output_type": "stream",
     "text": [
      "[nltk_data] Downloading package movie_reviews to\n",
      "[nltk_data]     /usr/share/nltk_data...\n",
      "[nltk_data]   Package movie_reviews is already up-to-date!\n"
     ]
    }
   ],
   "source": [
    "# Download dataset \n",
    "nltk.download('movie_reviews')\n",
    "\n",
    "# Load movie reviews dataset\n",
    "documents = [(list(movie_reviews.words(fileid)), category)\n",
    "              for category in movie_reviews.categories()\n",
    "              for fileid in movie_reviews.fileids(category)]"
   ]
  },
  {
   "cell_type": "code",
   "execution_count": 3,
   "id": "a4a34a90",
   "metadata": {
    "execution": {
     "iopub.execute_input": "2025-03-22T18:49:31.750689Z",
     "iopub.status.busy": "2025-03-22T18:49:31.750320Z",
     "iopub.status.idle": "2025-03-22T18:49:33.073884Z",
     "shell.execute_reply": "2025-03-22T18:49:33.072954Z"
    },
    "papermill": {
     "duration": 1.328361,
     "end_time": "2025-03-22T18:49:33.075710",
     "exception": false,
     "start_time": "2025-03-22T18:49:31.747349",
     "status": "completed"
    },
    "tags": []
   },
   "outputs": [],
   "source": [
    "# Convert to DataFrame\n",
    "df = pd.DataFrame(documents, columns=['review', 'sentiment'])\n",
    "df['review'] = df['review'].apply(lambda words: ' '.join(words))  # Convert list of words to string\n",
    "df['sentiment'] = df['sentiment'].map({'neg': 0, 'pos': 1})  # Convert labels to numerical values\n",
    "\n",
    "# Reduce dataset size to avoid memory issues\n",
    "df = df.sample(n=2000, random_state=42)\n",
    "\n",
    "# Split dataset\n",
    "X_train, X_test, y_train, y_test = train_test_split(df['review'], df['sentiment'], test_size=0.2, random_state=42)\n",
    "\n",
    "# Feature Extraction (Convert text to numerical format)\n",
    "vectorizer = TfidfVectorizer(stop_words='english', max_features=3000)\n",
    "X_train_vect = vectorizer.fit_transform(X_train)\n",
    "X_test_vect = vectorizer.transform(X_test)\n",
    "\n",
    "# Option 1: Logistic Regression (generally performs well for text classification)\n",
    "model = LogisticRegression(max_iter=2000, C=1.0)\n",
    "\n",
    "#Train the selected model\n",
    "model.fit(X_train_vect, y_train)\n",
    "\n",
    "# Predictions\n",
    "y_pred = model.predict(X_test_vect)"
   ]
  },
  {
   "cell_type": "code",
   "execution_count": 4,
   "id": "924108f0",
   "metadata": {
    "execution": {
     "iopub.execute_input": "2025-03-22T18:49:33.081205Z",
     "iopub.status.busy": "2025-03-22T18:49:33.080905Z",
     "iopub.status.idle": "2025-03-22T18:49:33.101094Z",
     "shell.execute_reply": "2025-03-22T18:49:33.099757Z"
    },
    "papermill": {
     "duration": 0.024881,
     "end_time": "2025-03-22T18:49:33.102902",
     "exception": false,
     "start_time": "2025-03-22T18:49:33.078021",
     "status": "completed"
    },
    "tags": []
   },
   "outputs": [
    {
     "name": "stdout",
     "output_type": "stream",
     "text": [
      "Accuracy: 0.85\n",
      "Classification Report:\n",
      "               precision    recall  f1-score   support\n",
      "\n",
      "           0       0.84      0.86      0.85       197\n",
      "           1       0.86      0.85      0.85       203\n",
      "\n",
      "    accuracy                           0.85       400\n",
      "   macro avg       0.85      0.85      0.85       400\n",
      "weighted avg       0.85      0.85      0.85       400\n",
      "\n",
      "Confusion Matrix:\n",
      "[[169  28]\n",
      " [ 31 172]]\n",
      "Review: This movie was fantastic! The story was engaging and the characters were well developed.\n",
      "Predicted Sentiment: Positive\n",
      "\n",
      "Review: I absolutely hated this film. It was boring and the acting was terrible.\n",
      "Predicted Sentiment: Negative\n",
      "\n",
      "Review: An average movie, some good parts but also many flaws.\n",
      "Predicted Sentiment: Positive\n",
      "\n",
      "Review: One of the best movies I have ever seen. Highly recommended!\n",
      "Predicted Sentiment: Positive\n",
      "\n",
      "Review: Worst movie ever. Do not waste your time.\n",
      "Predicted Sentiment: Negative\n",
      "\n"
     ]
    }
   ],
   "source": [
    "# Evaluate Model\n",
    "accuracy = accuracy_score(y_test, y_pred)\n",
    "print(f'Accuracy: {accuracy:.2f}')\n",
    "print('Classification Report:\\n', classification_report(y_test, y_pred))\n",
    "\n",
    "# Confusion Matrix\n",
    "cm = confusion_matrix(y_test, y_pred)\n",
    "print(\"Confusion Matrix:\")\n",
    "print(cm)\n",
    "\n",
    "# Examples of predictions\n",
    "sample_reviews = [\n",
    "    \"This movie was fantastic! The story was engaging and the characters were well developed.\",\n",
    "    \"I absolutely hated this film. It was boring and the acting was terrible.\",\n",
    "    \"An average movie, some good parts but also many flaws.\",\n",
    "    \"One of the best movies I have ever seen. Highly recommended!\",\n",
    "    \"Worst movie ever. Do not waste your time.\"\n",
    "]\n",
    "\n",
    "# Transform the sample reviews using the trained vectorizer\n",
    "sample_vect = vectorizer.transform(sample_reviews)\n",
    "\n",
    "# Predict sentiment for the sample reviews\n",
    "sample_preds = model.predict(sample_vect)\n",
    "\n",
    "# Print results\n",
    "for review, sentiment in zip(sample_reviews, sample_preds):\n",
    "    print(f\"Review: {review}\\nPredicted Sentiment: {'Positive' if sentiment == 1 else 'Negative'}\\n\")"
   ]
  }
 ],
 "metadata": {
  "kaggle": {
   "accelerator": "none",
   "dataSources": [],
   "dockerImageVersionId": 30918,
   "isGpuEnabled": false,
   "isInternetEnabled": true,
   "language": "python",
   "sourceType": "notebook"
  },
  "kernelspec": {
   "display_name": "Python 3",
   "language": "python",
   "name": "python3"
  },
  "language_info": {
   "codemirror_mode": {
    "name": "ipython",
    "version": 3
   },
   "file_extension": ".py",
   "mimetype": "text/x-python",
   "name": "python",
   "nbconvert_exporter": "python",
   "pygments_lexer": "ipython3",
   "version": "3.10.12"
  },
  "papermill": {
   "default_parameters": {},
   "duration": 13.481757,
   "end_time": "2025-03-22T18:49:33.825121",
   "environment_variables": {},
   "exception": null,
   "input_path": "__notebook__.ipynb",
   "output_path": "__notebook__.ipynb",
   "parameters": {},
   "start_time": "2025-03-22T18:49:20.343364",
   "version": "2.6.0"
  }
 },
 "nbformat": 4,
 "nbformat_minor": 5
}
